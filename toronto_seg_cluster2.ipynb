{
cells: [
{
cell_type: "code",
execution_count: 38,
metadata: {
scrolled: false
},
outputs: [
{
name: "stdout",
output_type: "stream",
text: [
"Libraries imported. "
]
}
],
source: [
"import numpy as np # library to handle data in a vectorized manner ",
" ",
"import pandas as pd # library for data analsysis ",
"pd.set_option('display.max_columns', None) ",
"pd.set_option('display.max_rows', None) ",
" ",
"import json # library to handle JSON files ",
" ",
"#!conda install -c conda-forge geopy --yes # uncomment this line if you haven't completed the Foursquare API lab ",
"from geopy.geocoders import Nominatim # convert an address into latitude and longitude values ",
" ",
"import requests # library to handle requests ",
"from pandas.io.json import json_normalize # tranform JSON file into a pandas dataframe ",
" ",
"# Matplotlib and associated plotting modules ",
"import matplotlib.cm as cm ",
"import matplotlib.colors as colors ",
" ",
"# import k-means from clustering stage ",
"from sklearn.cluster import KMeans ",
" ",
"#!conda install -c conda-forge folium=0.5.0 --yes # uncomment this line if you haven't completed the Foursquare API lab ",
"import folium # map rendering library ",
" ",
"print('Libraries imported.')"
]
},
{
cell_type: "markdown",
metadata: { },
source: [
"# Download and load the data into a pandas dataframe ",
"1. I've copied the data and created a csv file out of it. I'm fetching it from a URL hosted on the dropbox public folder."
]
},
{
cell_type: "code",
execution_count: 39,
metadata: { },
outputs: [ ],
source: [
"!wget -q -O 'toronto_data.csv' https://www.dropbox.com/s/yxodhl9t7z8s2z5/toronto.csv?dl=0 ",
"dfToronto = pd.read_csv('toronto_data.csv')"
]
},
{
cell_type: "markdown",
metadata: { },
source: [
"# Data preparation ",
"1. Remove the 'Not assigned' Borough entries from the dataframe as their geolocation would not be looked up. ",
"2. Update Neighbourhood with Borough value where Neighbourhood is 'Not assigned'. ",
"3. Grouped the neighbourhoods, against Postcode and Borough."
]
},
{
cell_type: "code",
execution_count: 40,
metadata: { },
outputs: [ ],
source: [
"dfToronto = dfToronto.drop(dfToronto[dfToronto.Borough == 'Not assigned'].index) ",
"dfToronto.loc[dfToronto['Neighbourhood'] == 'Not assigned', 'Neighbourhood'] = dfToronto['Borough'] ",
"dfGrouped = dfToronto.groupby(['Postcode', 'Borough'])['Neighbourhood'].apply(','.join).reset_index()"
]
},
{
cell_type: "code",
execution_count: 41,
metadata: { },
outputs: [
{
data: {
text/plain: [
"(103, 3)"
]
},
execution_count: 41,
metadata: { },
output_type: "execute_result"
}
],
source: [
"dfGrouped.shape"
]
},
{
cell_type: "markdown",
metadata: { },
source: [
"# Download and load the geo coordinates data"
]
},
{
cell_type: "code",
execution_count: 42,
metadata: { },
outputs: [ ],
source: [
"#!wget -q -O 'toronto_geo_data.csv' https://www.dropbox.com/s/rd9rtsnx3nz9bfh/Geospatial_Coordinates.csv?dl=0 ",
"dfGeoData = pd.read_csv('toronto_geo_data.csv') ",
"dfGeoData.set_index('Postal Code', inplace=True)"
]
},
{
cell_type: "code",
execution_count: 43,
metadata: { },
outputs: [
{
data: {
text/html: [
"<div> ",
"<style scoped> ",
" .dataframe tbody tr th:only-of-type { ",
" vertical-align: middle; ",
" } ",
" ",
" .dataframe tbody tr th { ",
" vertical-align: top; ",
" } ",
" ",
" .dataframe thead th { ",
" text-align: right; ",
" } ",
"</style> ",
"<table border="1" class="dataframe"> ",
" <thead> ",
" <tr style="text-align: right;"> ",
" <th></th> ",
" <th>Postcode</th> ",
" <th>Borough</th> ",
" <th>Neighbourhood</th> ",
" <th>Latitude</th> ",
" <th>Longitude</th> ",
" </tr> ",
" </thead> ",
" <tbody> ",
" <tr> ",
" <th>0</th> ",
" <td>M1B</td> ",
" <td>Scarborough</td> ",
" <td>Rouge,Malvern</td> ",
" <td>43.806686</td> ",
" <td>-79.194353</td> ",
" </tr> ",
" <tr> ",
" <th>1</th> ",
" <td>M1C</td> ",
" <td>Scarborough</td> ",
" <td>Highland Creek,Rouge Hill,Port Union</td> ",
" <td>43.784535</td> ",
" <td>-79.160497</td> ",
" </tr> ",
" <tr> ",
" <th>2</th> ",
" <td>M1E</td> ",
" <td>Scarborough</td> ",
" <td>Guildwood,Morningside,West Hill</td> ",
" <td>43.763573</td> ",
" <td>-79.188711</td> ",
" </tr> ",
" <tr> ",
" <th>3</th> ",
" <td>M1G</td> ",
" <td>Scarborough</td> ",
" <td>Woburn</td> ",
" <td>43.770992</td> ",
" <td>-79.216917</td> ",
" </tr> ",
" <tr> ",
" <th>4</th> ",
" <td>M1H</td> ",
" <td>Scarborough</td> ",
" <td>Cedarbrae</td> ",
" <td>43.773136</td> ",
" <td>-79.239476</td> ",
" </tr> ",
" </tbody> ",
"</table> ",
"</div>"
],
text/plain: [
" Postcode Borough Neighbourhood Latitude \ ",
"0 M1B Scarborough Rouge,Malvern 43.806686 ",
"1 M1C Scarborough Highland Creek,Rouge Hill,Port Union 43.784535 ",
"2 M1E Scarborough Guildwood,Morningside,West Hill 43.763573 ",
"3 M1G Scarborough Woburn 43.770992 ",
"4 M1H Scarborough Cedarbrae 43.773136 ",
" ",
" Longitude ",
"0 -79.194353 ",
"1 -79.160497 ",
"2 -79.188711 ",
"3 -79.216917 ",
"4 -79.239476 "
]
},
execution_count: 43,
metadata: { },
output_type: "execute_result"
}
],
source: [
"geolocator = Nominatim(user_agent="toronto_explorer") ",
"aLatitude = [] ",
"aLongitude = [] ",
" ",
"for postcode, borough in zip(dfGrouped['Postcode'], dfGrouped['Borough']): ",
" aLatitude.append(dfGeoData.loc[postcode,:]['Latitude']) ",
" aLongitude.append(dfGeoData.loc[postcode,:]['Longitude']) ",
" ",
"dfGrouped['Latitude'] = aLatitude ",
"dfGrouped['Longitude'] = aLongitude ",
" ",
"dfGrouped.head()"
]
},
{
cell_type: "code",
execution_count: 44,
metadata: { },
outputs: [
{
data: {
text/plain: [
"(103, 5)"
]
},
execution_count: 44,
metadata: { },
output_type: "execute_result"
}
],
source: [
"dfGrouped.shape"
]
}
],
metadata: {
kernelspec: {
display_name: "Python 3.5",
language: "python",
name: "python3"
},
language_info: {
codemirror_mode: {
name: "ipython",
version: 3
},
file_extension: ".py",
mimetype: "text/x-python",
name: "python",
nbconvert_exporter: "python",
pygments_lexer: "ipython3",
version: "3.5.5"
}
},
nbformat: 4,
nbformat_minor: 1
}
